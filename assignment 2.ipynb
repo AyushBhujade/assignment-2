{
 "cells": [
  {
   "cell_type": "markdown",
   "id": "50f7f172-69c8-47a8-9d4e-a4086ed9e592",
   "metadata": {},
   "source": [
    "quation 1:\n",
    "ans : there two types of comment \n",
    "    1: single line comment\n",
    "    2: multi line commnet"
   ]
  },
  {
   "cell_type": "code",
   "execution_count": 5,
   "id": "279a965e-c9e1-4cca-bc8f-513aa8c0b848",
   "metadata": {},
   "outputs": [
    {
     "name": "stdout",
     "output_type": "stream",
     "text": [
      "hellow world\n"
     ]
    }
   ],
   "source": [
    "# this is single line commnet\n",
    "print(\"hellow world\")#this is another comment\n"
   ]
  },
  {
   "cell_type": "markdown",
   "id": "96338fe2-3520-4afe-a73b-d3ee33ca0d45",
   "metadata": {},
   "source": [
    "quation 2:\n",
    "    variable are used to store data or values variable are essentialy named container that allow you to\n",
    "    store and manipulate data .\n",
    "    variable declaration:\n",
    "    in python you dont need to exlicity declare the data tye of variable.python infers the data type base \n",
    "    on the value assigned to the variable\n",
    "    \n",
    "    "
   ]
  },
  {
   "cell_type": "code",
   "execution_count": null,
   "id": "c99932d5-14e7-42fb-8d9a-601045313cda",
   "metadata": {},
   "outputs": [],
   "source": [
    "my_age=18"
   ]
  },
  {
   "cell_type": "markdown",
   "id": "11e4441f-c04f-4edc-8e1e-fee51104d10a",
   "metadata": {},
   "source": [
    "here my_age is variable\n",
    "= is a assignmennt operator\n",
    "18 is a value"
   ]
  },
  {
   "cell_type": "markdown",
   "id": "562713b6-cb15-4b8f-b900-ccf94dd78567",
   "metadata": {},
   "source": [
    "quation 3:\n",
    "in python we use to convert one data type to another data type by type casting \n"
   ]
  },
  {
   "cell_type": "code",
   "execution_count": null,
   "id": "161cee45-85bb-423d-8a4d-7f8bb88e5eb4",
   "metadata": {},
   "outputs": [],
   "source": [
    "# convert a float to an integer\n",
    "float_num=41.2\n",
    "int_num=int(float_num)"
   ]
  },
  {
   "cell_type": "markdown",
   "id": "0a40c6fd-c574-4cbb-aad0-dc36e09ca902",
   "metadata": {},
   "source": [
    "quation 5:\n"
   ]
  },
  {
   "cell_type": "code",
   "execution_count": 15,
   "id": "f7e200cc-5f7f-4709-a6dd-2379acacffc0",
   "metadata": {},
   "outputs": [
    {
     "data": {
      "text/plain": [
       "[2, 3]"
      ]
     },
     "execution_count": 15,
     "metadata": {},
     "output_type": "execute_result"
    }
   ],
   "source": [
    "my_list=[1,2,3,4,5]\n",
    "my_list[1:3]\n",
    "\n"
   ]
  },
  {
   "cell_type": "markdown",
   "id": "1b6bdab2-7322-4b12-bfc1-5e19f962820c",
   "metadata": {},
   "source": [
    "quation 6:\n",
    "in mathamatics complex number is combination of real number and imaginary number\n"
   ]
  },
  {
   "cell_type": "code",
   "execution_count": 16,
   "id": "0c4459d7-bee2-43b6-8a25-058f0f21b9ee",
   "metadata": {},
   "outputs": [
    {
     "data": {
      "text/plain": [
       "complex"
      ]
     },
     "execution_count": 16,
     "metadata": {},
     "output_type": "execute_result"
    }
   ],
   "source": [
    "complex_num=4+8j\n",
    "type(complex_num)"
   ]
  },
  {
   "cell_type": "markdown",
   "id": "16105c0d-4c3d-4fac-8912-96c7ea3cf6a0",
   "metadata": {},
   "source": [
    "quation 7:\n",
    "    the correct way is :"
   ]
  },
  {
   "cell_type": "code",
   "execution_count": 17,
   "id": "9610bf86-8d21-408b-b88c-44c752e5bb91",
   "metadata": {},
   "outputs": [
    {
     "data": {
      "text/plain": [
       "25"
      ]
     },
     "execution_count": 17,
     "metadata": {},
     "output_type": "execute_result"
    }
   ],
   "source": [
    "age=25\n",
    "age"
   ]
  },
  {
   "cell_type": "markdown",
   "id": "376af1c5-7ced-430c-a866-1327f22fbf6c",
   "metadata": {},
   "source": [
    "quation 8:\n",
    "    "
   ]
  },
  {
   "cell_type": "code",
   "execution_count": 19,
   "id": "40dbb2e6-a5cc-497c-b5e5-b7c7105829f0",
   "metadata": {},
   "outputs": [
    {
     "data": {
      "text/plain": [
       "float"
      ]
     },
     "execution_count": 19,
     "metadata": {},
     "output_type": "execute_result"
    }
   ],
   "source": [
    "price=9.99\n",
    "# type of price is float\n",
    "type(price)"
   ]
  },
  {
   "cell_type": "markdown",
   "id": "10bd2539-91f5-4ed6-8a94-7be19c145d46",
   "metadata": {},
   "source": [
    "quation 9:\n"
   ]
  },
  {
   "cell_type": "code",
   "execution_count": 21,
   "id": "c0a4e92c-f4a6-4af6-a325-4281b0b7d376",
   "metadata": {},
   "outputs": [
    {
     "name": "stdout",
     "output_type": "stream",
     "text": [
      "ayush bhujade\n"
     ]
    }
   ],
   "source": [
    "name=\"ayush bhujade\"\n",
    "print(name)"
   ]
  },
  {
   "cell_type": "markdown",
   "id": "de7a0553-9255-4521-ac45-3aacdbd1be90",
   "metadata": {},
   "source": [
    "quation 10:\n"
   ]
  },
  {
   "cell_type": "code",
   "execution_count": 22,
   "id": "d136d58b-0436-48ad-a320-4f68f4e4e2f6",
   "metadata": {},
   "outputs": [
    {
     "data": {
      "text/plain": [
       "'World'"
      ]
     },
     "execution_count": 22,
     "metadata": {},
     "output_type": "execute_result"
    }
   ],
   "source": [
    "st=\"Hello, World!\"\n",
    "st[7:12]"
   ]
  },
  {
   "cell_type": "markdown",
   "id": "681bb2ed-c597-41c9-a09b-71a5a7e9c778",
   "metadata": {},
   "source": [
    "quation 11:\n"
   ]
  },
  {
   "cell_type": "code",
   "execution_count": null,
   "id": "8dfc15ae-0108-4bec-8fea-4dc58e6cac28",
   "metadata": {},
   "outputs": [],
   "source": [
    "is_student=False\n",
    "if is_student==False:\n",
    "    print(\"you are currently not a student\")\n",
    "else:\n",
    "    print(\"you are currently a student\""
   ]
  }
 ],
 "metadata": {
  "kernelspec": {
   "display_name": "Python 3 (ipykernel)",
   "language": "python",
   "name": "python3"
  },
  "language_info": {
   "codemirror_mode": {
    "name": "ipython",
    "version": 3
   },
   "file_extension": ".py",
   "mimetype": "text/x-python",
   "name": "python",
   "nbconvert_exporter": "python",
   "pygments_lexer": "ipython3",
   "version": "3.10.8"
  }
 },
 "nbformat": 4,
 "nbformat_minor": 5
}
